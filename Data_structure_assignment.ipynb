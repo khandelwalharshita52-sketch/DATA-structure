{
  "nbformat": 4,
  "nbformat_minor": 0,
  "metadata": {
    "colab": {
      "provenance": []
    },
    "kernelspec": {
      "name": "python3",
      "display_name": "Python 3"
    },
    "language_info": {
      "name": "python"
    }
  },
  "cells": [
    {
      "cell_type": "markdown",
      "source": [
        "**1. What are data structures, and why are they important**\n",
        "ans-1 data structures are the ways of storing, organizing and access data and manipulated efficiency .They are important because it helps to creat a  clear and understandable data it helps to handle data more efficiently\n",
        "\n",
        ".\n",
        "**2.Explain the difference between mutable and immutable data types with examples.**\n",
        "ans-2 Mutable are such data types which helps us to change in exicting list and are flexible like - lists , sets.\n",
        "example:Potato\" #list is mutable\n",
        "shopping_list = [\"Baingan\", \"Apple\", 2, 3.4, True]\n",
        "shopping_list[0] = \"potato\"\n",
        "\n",
        "['Potato', 'Apple', 2, 3.4, True]\n",
        "Immutable are those data types which are not flexible to change and doesn't allow any changee in existing format.\n",
        "example:mp_name[2]  =  tuple is immutable\n",
        "shopping_list = (\"Baingan\", \"Apple\", 2, 3.4, True)\n",
        "shopping_list[0] = \"potato\"\n",
        "*it will show an error*\n",
        "\n",
        "3.**What are the main differences between lists and tuples in Python**\n",
        "Lists and tuples both data types can store heterogrnous items in python the main difference between the both is list are mutable i.e flexible to change whereas tuples are immutable .\n",
        "\n",
        "4.** Describe how dictionaries store data**\n",
        "Dictionaries are key-value pairs that allow you to store and retrieve data based on a unique key. The keys\n",
        "must be immutable, such as strings or numbers.\n",
        " Dictionaries are useful for storing data that needs to be accessed quickly and efficiently.\n",
        " example:my_dict = {'Course': 'PWIOI', 'Duration': 2, 'city': 'Banglore}\n",
        "\n",
        "5.** Why might you use a set instead of a list in Python**\n",
        "ans-5 sets are unoredered collection of unique elements so one cannot duplicate the ellements while list allows a duplicate element .Sets do not maintain any specific order of elements, while lists do.\n",
        "\n",
        "6.**P What is a string in Python, and how is it different from a list**\n",
        "ans-6 string is a data type in python uses sequence of character , represent and manipulate textual data whereas list can store any data including a string value .\n",
        "example : string - \"ajay\"\n",
        "list -[1,2,\"ajay\"]\n",
        "\n",
        "7.**How do tuples ensure data integrity in Python**\n",
        "ans-7 Once you create a tuple, you cannot change its content. This immutability makes tuples useful for situations where you want to ensure that the data remains constant.\n",
        "\n",
        "8.** What is a hash table, and how does it relate to dictionaries in Python**\n",
        "ans-8 A hash table is a data structure that allows for fast key-value lookups. python's dictionaries are implemented using hash tables under the hood. This means that when you use a dictionary in Python, it's leveraging the power of a hash table to store and retrieve values efficiently.\n",
        "example:# Creating a dictionary\n",
        "my_dict = {\"name\": \"Alice\", \"age\": 25}\n",
        "\n",
        "*Retrieving a value by key (hashing is involved)\n",
        "print(my_dict[\"name\"])  # Output: Alice\n",
        "\n",
        "9.**Can lists contain different data types in Python**\n",
        "ans-9 yes lists can contain any type of data it can contain numerical ,text and even complex numbers as list are heterogenous.\n",
        "example:shopping_list = [\"Baingan\", \"Apple\", 2, 3.4, True]\n",
        "shopping_list[0] = \"Potato\"\n",
        "\n",
        "10.** Explain why strings are immutable in Python**\n",
        "ans-10 string is a data type in python uses sequence of character , represent and manipulate textual data . so a unique name or characterc cannot be modified in string\n",
        "examole:a=\"ajay\"\n",
        "a[0]=\"ajay\"=\"bijay\"\n",
        "will throw error\n",
        "\n",
        "11** What advantages do dictionaries offer over lists for certain tasks**\n",
        "ans-11 advantages of dictionaries over lists:-\n",
        "*Fast Lookups\n",
        "*Key-Value Pairing\n",
        "*Data Structure Clarity\n",
        "*Avoiding Duplicates\n",
        "\n",
        "12 **Describe a scenario where using a tuple would be preferable over a listP**\n",
        "ans-12 tuple is preferable over a list in scenarios where immutability (unchangeable data) is important.\n",
        "example:-empid = (1, 2, 3, 4, 5)\n",
        "empid[1] = 100\n",
        "in such a case uit will throw error\n",
        "\n",
        "13P **How do sets handle duplicate values in Python3**\n",
        "ans-13 Python 3, sets automatically eliminate duplicate values\n",
        "example:-s1 = {\"hiking\", \"reading\", \"coding\"}\n",
        "s2 = {\"coding\", \"photography\", \"travelling\"}\n",
        "{'coding', 'hiking', 'photography', 'reading', 'travelling'}\n",
        "\n",
        "14 **How does the “in” keyword work differently for lists and dictionaries3**\n",
        "ans-14 \"in\" keywords works differently in lists and dictionaries.\n",
        "in lists 'in' checks the value in the element exists or not\n",
        "example :[1,2,3]\n",
        "print(1 in l)=# true\n",
        "whereas in dictionaries 'in' checks if a key exists in the dictionary\n",
        "example:-student = {\"name\": \"Alice\", \"age\": 25}\n",
        "\n",
        "print(\"name\" in student)   #true\n",
        "\n",
        "15**Can you modify the elements of a tuple? Explain why or why not**\n",
        "ans-15 No we cannot modify elements in tuple as tuple are unique elements that are not mutable .Once a tuple is created, its elements cannot be changed, added, or removed.\n",
        "\n",
        "16P **What is a nested dictionary, and give an example of its use case3**\n",
        "ans-16 A nested dictionary is a dictionary within another dictionary. It allows you to store complex, structured data in a hierarchical format.\n",
        "example:\n",
        "    'E0': {'name': 'Jane Smith', 'department': 'Marketing', 'salary': 65000},\n",
        "    'E01: {'name': 'David Lee', 'department': 'Finance', 'salary': 80000}\n",
        "\n",
        "17P **Describe the time complexity of accessing elements in a dictionaryP**\n",
        "ans-17 Accessing elements in a Python dictionary is typically O(1) — constant time.Dictionaries in Python use a hash table under the hood.\n",
        "my_dict = {\"name\": \"Alice\", \"age\": 30}\n",
        "print(my_dict[\"age\"])  # O(1) operation\n",
        "\n",
        "18 **P In what situations are lists preferred over dictionaries3**\n",
        "ans-18  lists are preferred over dictionaries in the situation where data is heterogenous,Need to Maintain Order,Position ,Indexing, Slicing.\n",
        "\n",
        "19**9P Why are dictionaries considered unordered, and how does that affect data retrieval3**\n",
        "ans-19 dictionaries are considered as unordered because the elements in dictionaries are implemented as hash tables which retrieves data not in a specific order and data can be accessed fast.\n",
        "\n",
        "20**Explain the difference between a list and a dictionary in terms of data retrieval.**\n",
        "ans-20 data in lists are ordered whereas in dictionaries are ordered .\n",
        "in lists data is accessed throght index whereas in dictionaries data is accessed through keys.\n"
      ],
      "metadata": {
        "id": "9E2XNm6lZAKH"
      }
    },
    {
      "cell_type": "markdown",
      "source": [
        "##practical questions###"
      ],
      "metadata": {
        "id": "FH0v2Ffj3K9w"
      }
    },
    {
      "cell_type": "code",
      "source": [
        "#ans-1\n",
        "# code to enter your name\n",
        "name=\"harshita\"\n",
        "print(name)"
      ],
      "metadata": {
        "colab": {
          "base_uri": "https://localhost:8080/"
        },
        "id": "e5qYW6WQq7SE",
        "outputId": "5a3b5bd6-3af0-4bcb-c675-834215350a1c"
      },
      "execution_count": 1,
      "outputs": [
        {
          "output_type": "stream",
          "name": "stdout",
          "text": [
            "harshita\n"
          ]
        }
      ]
    },
    {
      "cell_type": "code",
      "source": [
        "#ans-2\n",
        "# length of hello world\n",
        "a=\"hello world\"\n",
        "len(a)"
      ],
      "metadata": {
        "colab": {
          "base_uri": "https://localhost:8080/"
        },
        "id": "tl8k3Jm9rP4N",
        "outputId": "5d8dd5b6-3aba-45cb-acb1-37ccd2d3b9d3"
      },
      "execution_count": 2,
      "outputs": [
        {
          "output_type": "execute_result",
          "data": {
            "text/plain": [
              "11"
            ]
          },
          "metadata": {},
          "execution_count": 2
        }
      ]
    },
    {
      "cell_type": "code",
      "source": [
        "#ans-3\n",
        "# code to slice\n",
        "a=\"Python Programming\"\n",
        "print(a[0:3])"
      ],
      "metadata": {
        "colab": {
          "base_uri": "https://localhost:8080/"
        },
        "id": "C7zfmSPzrj2i",
        "outputId": "8f2f5539-17c8-4fff-d414-1dc2c99d760d"
      },
      "execution_count": 4,
      "outputs": [
        {
          "output_type": "stream",
          "name": "stdout",
          "text": [
            "Pyt\n"
          ]
        }
      ]
    },
    {
      "cell_type": "code",
      "source": [
        "#ans-4\n",
        "# code to convert str to upper case\n",
        "a=\"hello\"\n",
        "a.upper()"
      ],
      "metadata": {
        "colab": {
          "base_uri": "https://localhost:8080/",
          "height": 35
        },
        "id": "59zb0_snr4mL",
        "outputId": "bdc61e0a-fe0b-4dd4-c9a1-9c229510e9ec"
      },
      "execution_count": 6,
      "outputs": [
        {
          "output_type": "execute_result",
          "data": {
            "text/plain": [
              "'HELLO'"
            ],
            "application/vnd.google.colaboratory.intrinsic+json": {
              "type": "string"
            }
          },
          "metadata": {},
          "execution_count": 6
        }
      ]
    },
    {
      "cell_type": "code",
      "source": [
        "#ans-5\n",
        "# code to replace an element in str\n",
        "text= \"I like apple\"\n",
        "text.replace(\"apple\",\"orange\")\n"
      ],
      "metadata": {
        "colab": {
          "base_uri": "https://localhost:8080/",
          "height": 35
        },
        "id": "7XzTHJtUsOR7",
        "outputId": "f3d47eab-496c-4947-b3dd-e79b2a8a4007"
      },
      "execution_count": 12,
      "outputs": [
        {
          "output_type": "execute_result",
          "data": {
            "text/plain": [
              "'I like orange'"
            ],
            "application/vnd.google.colaboratory.intrinsic+json": {
              "type": "string"
            }
          },
          "metadata": {},
          "execution_count": 12
        }
      ]
    },
    {
      "cell_type": "code",
      "source": [
        "#ans-6\n",
        "# code to create a list with munbers 1 to 5\n",
        "list(range(1,6))"
      ],
      "metadata": {
        "colab": {
          "base_uri": "https://localhost:8080/"
        },
        "id": "BGhVQoF0tOOt",
        "outputId": "3b96aa83-6db3-48e9-bc9b-18417eec71d5"
      },
      "execution_count": 13,
      "outputs": [
        {
          "output_type": "execute_result",
          "data": {
            "text/plain": [
              "[1, 2, 3, 4, 5]"
            ]
          },
          "metadata": {},
          "execution_count": 13
        }
      ]
    },
    {
      "cell_type": "code",
      "source": [
        "#ans-7\n",
        "# code to append\n",
        "list=[1,2,3,4]\n",
        "print(list)\n"
      ],
      "metadata": {
        "colab": {
          "base_uri": "https://localhost:8080/"
        },
        "id": "voSjAk0HthID",
        "outputId": "2ac38ecc-e21e-4cca-b722-ef3668d56fca"
      },
      "execution_count": 15,
      "outputs": [
        {
          "output_type": "stream",
          "name": "stdout",
          "text": [
            "[1, 2, 3, 4]\n"
          ]
        }
      ]
    },
    {
      "cell_type": "code",
      "source": [
        "list.append(10)\n",
        "print(list)"
      ],
      "metadata": {
        "colab": {
          "base_uri": "https://localhost:8080/"
        },
        "id": "KmCROaCLt1h3",
        "outputId": "ff8b37e0-8ad4-4423-bdc6-53110c6de706"
      },
      "execution_count": 18,
      "outputs": [
        {
          "output_type": "stream",
          "name": "stdout",
          "text": [
            "[1, 2, 3, 4, 10]\n"
          ]
        }
      ]
    },
    {
      "cell_type": "code",
      "source": [
        "#ans-8\n",
        "# code to remove\n",
        "list=[1,2,3,4,5]\n",
        "list.remove(3)\n",
        "print(list)"
      ],
      "metadata": {
        "colab": {
          "base_uri": "https://localhost:8080/"
        },
        "id": "VuCiSpkNuDfF",
        "outputId": "20c6a952-3705-452f-dcc9-81b1d30b94e7"
      },
      "execution_count": 21,
      "outputs": [
        {
          "output_type": "stream",
          "name": "stdout",
          "text": [
            "[1, 2, 4, 5]\n"
          ]
        }
      ]
    },
    {
      "cell_type": "code",
      "source": [
        "#ans-9\n",
        "# code to access the second element\n",
        "list=['a', 'b', 'c', 'd']\n",
        "list[2]\n"
      ],
      "metadata": {
        "colab": {
          "base_uri": "https://localhost:8080/",
          "height": 35
        },
        "id": "wubRqQLVuZAu",
        "outputId": "df6efd4c-fe49-43b4-99e7-036e046077de"
      },
      "execution_count": 22,
      "outputs": [
        {
          "output_type": "execute_result",
          "data": {
            "text/plain": [
              "'c'"
            ],
            "application/vnd.google.colaboratory.intrinsic+json": {
              "type": "string"
            }
          },
          "metadata": {},
          "execution_count": 22
        }
      ]
    },
    {
      "cell_type": "code",
      "source": [
        "#ans-10\n",
        "# reverse the list\n",
        "list=[10,20,30,40,50]\n",
        "list.reverse()\n",
        "print(list)"
      ],
      "metadata": {
        "colab": {
          "base_uri": "https://localhost:8080/"
        },
        "id": "dH3y-7U0uscU",
        "outputId": "8a954a12-4267-4bd0-a4bc-0fccf70329bc"
      },
      "execution_count": 23,
      "outputs": [
        {
          "output_type": "stream",
          "name": "stdout",
          "text": [
            "[50, 40, 30, 20, 10]\n"
          ]
        }
      ]
    },
    {
      "cell_type": "code",
      "source": [
        "#ans-11\n",
        "# create a tuple\n",
        "tuple=(100,200,300)\n",
        "print(tuple)"
      ],
      "metadata": {
        "colab": {
          "base_uri": "https://localhost:8080/"
        },
        "id": "bLdu2-teu644",
        "outputId": "5bf90d34-4a2f-4e5f-b80b-904c94112303"
      },
      "execution_count": 26,
      "outputs": [
        {
          "output_type": "stream",
          "name": "stdout",
          "text": [
            "(100, 200, 300)\n"
          ]
        }
      ]
    },
    {
      "cell_type": "code",
      "source": [
        "#ans-12\n",
        "#access the second to the last element\n",
        "tuple=('red', 'green', 'blue', 'yellow')\n",
        "tuple[2]"
      ],
      "metadata": {
        "colab": {
          "base_uri": "https://localhost:8080/",
          "height": 35
        },
        "id": "9eUYyHkDvK4l",
        "outputId": "3972ae18-ae32-4f6e-ca46-42517c39ef76"
      },
      "execution_count": 28,
      "outputs": [
        {
          "output_type": "execute_result",
          "data": {
            "text/plain": [
              "'blue'"
            ],
            "application/vnd.google.colaboratory.intrinsic+json": {
              "type": "string"
            }
          },
          "metadata": {},
          "execution_count": 28
        }
      ]
    },
    {
      "cell_type": "code",
      "source": [
        "#ans-13\n",
        "# code to find the minimum number\n",
        "tuple =(10,20,5,15)\n",
        "min(tuple)"
      ],
      "metadata": {
        "colab": {
          "base_uri": "https://localhost:8080/"
        },
        "id": "aRMlMVwzvjqy",
        "outputId": "a562a440-e51c-4ef5-a6ee-cf3051053db0"
      },
      "execution_count": 33,
      "outputs": [
        {
          "output_type": "execute_result",
          "data": {
            "text/plain": [
              "5"
            ]
          },
          "metadata": {},
          "execution_count": 33
        }
      ]
    },
    {
      "cell_type": "code",
      "source": [
        "#ans-14\n",
        "# code to find index of element\n",
        "tuple =('dog','cat','rabbit')\n",
        "tuple.index('cat')\n"
      ],
      "metadata": {
        "colab": {
          "base_uri": "https://localhost:8080/"
        },
        "id": "kcyzVFzowBUg",
        "outputId": "4c969359-5ff7-406e-93c5-b326681411e9"
      },
      "execution_count": 35,
      "outputs": [
        {
          "output_type": "execute_result",
          "data": {
            "text/plain": [
              "1"
            ]
          },
          "metadata": {},
          "execution_count": 35
        }
      ]
    },
    {
      "cell_type": "code",
      "source": [
        "#ans-15\n",
        "# code to find kiwi in tuple\n",
        "tuple=(\"apple\",\"banana\",\"kiwi\")\n",
        "if 'kiwi' in tuple:\n",
        "    print(\"Kiwi is in the tuple.\")\n",
        "else:\n",
        "    print(\"Kiwi is NOT in the tuple.\")"
      ],
      "metadata": {
        "colab": {
          "base_uri": "https://localhost:8080/"
        },
        "id": "1FwrWF_cwpkz",
        "outputId": "4cf4f4c3-79e8-4f8d-b086-10b162ccd213"
      },
      "execution_count": 37,
      "outputs": [
        {
          "output_type": "stream",
          "name": "stdout",
          "text": [
            "Kiwi is in the tuple.\n"
          ]
        }
      ]
    },
    {
      "cell_type": "code",
      "source": [
        "#ans-16\n",
        "# creating a set\n",
        "set={'a','b','c'}\n",
        "print(set)"
      ],
      "metadata": {
        "colab": {
          "base_uri": "https://localhost:8080/"
        },
        "id": "ISnL3rGGxV_X",
        "outputId": "29a0a032-55db-4751-b725-279d1931c57b"
      },
      "execution_count": 38,
      "outputs": [
        {
          "output_type": "stream",
          "name": "stdout",
          "text": [
            "{'c', 'a', 'b'}\n"
          ]
        }
      ]
    },
    {
      "cell_type": "code",
      "source": [
        "#ans-17\n",
        "#clear elements\n",
        "set={1,2,3,4,5}\n",
        "set.clear()\n",
        "print(set)\n"
      ],
      "metadata": {
        "colab": {
          "base_uri": "https://localhost:8080/"
        },
        "id": "QQEzDvImxm_K",
        "outputId": "0fd9b166-e627-4b4b-fdfd-f2bce96851de"
      },
      "execution_count": 39,
      "outputs": [
        {
          "output_type": "stream",
          "name": "stdout",
          "text": [
            "set()\n"
          ]
        }
      ]
    },
    {
      "cell_type": "code",
      "source": [
        "#ans-18\n",
        "#remove elements\n",
        "set={1,2,3,4}\n",
        "set.remove(4)\n",
        "print(set)"
      ],
      "metadata": {
        "colab": {
          "base_uri": "https://localhost:8080/"
        },
        "id": "Cjx9zJ6B6Mum",
        "outputId": "c86ac182-faa2-4642-f44d-788b2a5a9bf0"
      },
      "execution_count": 40,
      "outputs": [
        {
          "output_type": "stream",
          "name": "stdout",
          "text": [
            "{1, 2, 3}\n"
          ]
        }
      ]
    },
    {
      "cell_type": "code",
      "source": [
        "#ans-19\n",
        "# combining the elements\n",
        "s1={1,2,3}\n",
        "s2={3,4,5}\n",
        "s1|s2"
      ],
      "metadata": {
        "colab": {
          "base_uri": "https://localhost:8080/"
        },
        "id": "EX7lKPCv6Z_J",
        "outputId": "7bd06f63-8de0-429d-fca5-38f1ee24ad65"
      },
      "execution_count": 44,
      "outputs": [
        {
          "output_type": "execute_result",
          "data": {
            "text/plain": [
              "{1, 2, 3, 4, 5}"
            ]
          },
          "metadata": {},
          "execution_count": 44
        }
      ]
    },
    {
      "cell_type": "code",
      "source": [
        "#ans-20\n",
        "# intersection of 2 elements\n",
        "s1={1,2,3}\n",
        "s2={2,3,4}\n",
        "s1&s2"
      ],
      "metadata": {
        "colab": {
          "base_uri": "https://localhost:8080/"
        },
        "id": "skza1COe7Gjm",
        "outputId": "6ce54eb8-9bbf-4945-c8ef-010080cedb0a"
      },
      "execution_count": 45,
      "outputs": [
        {
          "output_type": "execute_result",
          "data": {
            "text/plain": [
              "{2, 3}"
            ]
          },
          "metadata": {},
          "execution_count": 45
        }
      ]
    },
    {
      "cell_type": "code",
      "source": [
        "#ans-21\n",
        "# creting a dictionary\n",
        "my_dict={'name':'ajay','age':25,'city':'delhi'}\n",
        "print(my_dict)"
      ],
      "metadata": {
        "colab": {
          "base_uri": "https://localhost:8080/"
        },
        "id": "0WwJUfnS7iHi",
        "outputId": "c944f3f6-fafe-44d5-ce7e-ab98f094ee0d"
      },
      "execution_count": 47,
      "outputs": [
        {
          "output_type": "stream",
          "name": "stdout",
          "text": [
            "{'name': 'ajay', 'age': 25, 'city': 'delhi'}\n"
          ]
        }
      ]
    },
    {
      "cell_type": "code",
      "source": [
        "#ans-22\n",
        "#adding a key in dictionary\n",
        "d= {'name': 'John', 'age': 25}\n"
      ],
      "metadata": {
        "id": "SVC7vAOD77AD"
      },
      "execution_count": 48,
      "outputs": []
    },
    {
      "cell_type": "code",
      "source": [
        "d['country']='USA'\n",
        "print(d)"
      ],
      "metadata": {
        "colab": {
          "base_uri": "https://localhost:8080/"
        },
        "id": "Tw53WMID8RZ-",
        "outputId": "188e7b4a-8dcc-4ee3-da2e-948ca6dbb0b6"
      },
      "execution_count": 50,
      "outputs": [
        {
          "output_type": "stream",
          "name": "stdout",
          "text": [
            "{'name': 'John', 'age': 25, 'country': 'USA'}\n"
          ]
        }
      ]
    },
    {
      "cell_type": "code",
      "source": [
        "#ANS-23\n",
        "# accessing an element in key\n",
        "d={'name': 'Alice', 'age': 30}\n",
        "print(d['name'])"
      ],
      "metadata": {
        "colab": {
          "base_uri": "https://localhost:8080/"
        },
        "id": "LuHGu7Xy80Yn",
        "outputId": "fe03a8b8-574f-4eff-e269-1e937bc41d71"
      },
      "execution_count": 51,
      "outputs": [
        {
          "output_type": "stream",
          "name": "stdout",
          "text": [
            "Alice\n"
          ]
        }
      ]
    },
    {
      "cell_type": "code",
      "source": [
        "#ans-24\n",
        "# removing an element\n",
        "d={'name': 'Bob', 'age': 22, 'city': 'New York'}\n",
        "print(d)"
      ],
      "metadata": {
        "colab": {
          "base_uri": "https://localhost:8080/"
        },
        "id": "xKBo-wBs9H4v",
        "outputId": "6fe11d86-4d50-4540-b297-6a5efcc8f990"
      },
      "execution_count": 53,
      "outputs": [
        {
          "output_type": "stream",
          "name": "stdout",
          "text": [
            "{'name': 'Bob', 'age': 22, 'city': 'New York'}\n"
          ]
        }
      ]
    },
    {
      "cell_type": "code",
      "source": [
        "del d['age']"
      ],
      "metadata": {
        "id": "_PDxFDXe9atV"
      },
      "execution_count": 54,
      "outputs": []
    },
    {
      "cell_type": "code",
      "source": [
        "print(d)"
      ],
      "metadata": {
        "colab": {
          "base_uri": "https://localhost:8080/"
        },
        "id": "4r-aykZb9e2z",
        "outputId": "0a104099-6fd9-4f6a-edad-ca1726cd3be8"
      },
      "execution_count": 55,
      "outputs": [
        {
          "output_type": "stream",
          "name": "stdout",
          "text": [
            "{'name': 'Bob', 'city': 'New York'}\n"
          ]
        }
      ]
    },
    {
      "cell_type": "code",
      "source": [
        "#ans-25\n",
        "# to find city in dictionary\n",
        "d={'name': 'Alice', 'city': 'Paris'}\n",
        "if 'city' in d:\n",
        "    print(\"City is in the dictionary.\")\n",
        "else:\n",
        "    print(\"City is NOT in the dictionary.\")\n",
        "\n"
      ],
      "metadata": {
        "colab": {
          "base_uri": "https://localhost:8080/"
        },
        "id": "5dUAwTt_9guR",
        "outputId": "52adfc91-829c-4b47-c53a-9e8a092baa66"
      },
      "execution_count": 56,
      "outputs": [
        {
          "output_type": "stream",
          "name": "stdout",
          "text": [
            "City is in the dictionary.\n"
          ]
        }
      ]
    },
    {
      "cell_type": "code",
      "source": [
        "#ans-26\n",
        "# creating a list\n",
        "list=[1,2,3,4]\n",
        "print(list)"
      ],
      "metadata": {
        "colab": {
          "base_uri": "https://localhost:8080/"
        },
        "id": "qvblV8_m9VGb",
        "outputId": "b6794c33-1d33-4325-d2fa-fcd1fb47a7e6"
      },
      "execution_count": 59,
      "outputs": [
        {
          "output_type": "stream",
          "name": "stdout",
          "text": [
            "[1, 2, 3, 4]\n"
          ]
        }
      ]
    },
    {
      "cell_type": "code",
      "source": [
        "#creating a tuple\n",
        "t=(1,2,3,4)\n",
        "print(t)"
      ],
      "metadata": {
        "colab": {
          "base_uri": "https://localhost:8080/"
        },
        "id": "3S90yoYO-DRB",
        "outputId": "a8d147af-f678-4cae-baf4-86bee2595693"
      },
      "execution_count": 60,
      "outputs": [
        {
          "output_type": "stream",
          "name": "stdout",
          "text": [
            "(1, 2, 3, 4)\n"
          ]
        }
      ]
    },
    {
      "cell_type": "code",
      "source": [
        "# creating a dict\n",
        "d={'name':'ajay','age':25,'city':'delhi'}\n",
        "print(d)"
      ],
      "metadata": {
        "colab": {
          "base_uri": "https://localhost:8080/"
        },
        "id": "QPpmHXuG-Omy",
        "outputId": "1976a89c-875e-4402-a7fd-1086fc5406a6"
      },
      "execution_count": 61,
      "outputs": [
        {
          "output_type": "stream",
          "name": "stdout",
          "text": [
            "{'name': 'ajay', 'age': 25, 'city': 'delhi'}\n"
          ]
        }
      ]
    },
    {
      "cell_type": "code",
      "source": [
        "#ans-27\n",
        "# list of 5 random numbers in ascending order\n",
        "list=[2,12,3,54,35,67]\n",
        "#sorting of list\n",
        "list.sort()\n",
        "print(list)"
      ],
      "metadata": {
        "colab": {
          "base_uri": "https://localhost:8080/"
        },
        "id": "miMvwyqT-TC1",
        "outputId": "51d28958-c497-46f1-93f3-d5854b8015c4"
      },
      "execution_count": 62,
      "outputs": [
        {
          "output_type": "stream",
          "name": "stdout",
          "text": [
            "[2, 3, 12, 35, 54, 67]\n"
          ]
        }
      ]
    },
    {
      "cell_type": "code",
      "source": [
        "#ans-28\n",
        "# list having str and access of element at third index\n",
        "list=['apple','banana','cherry']\n",
        "print(list[2])"
      ],
      "metadata": {
        "colab": {
          "base_uri": "https://localhost:8080/"
        },
        "id": "4xfrNQCC-1DZ",
        "outputId": "df1a6f54-d4cb-4345-f8a2-d1717aa5da6b"
      },
      "execution_count": 63,
      "outputs": [
        {
          "output_type": "stream",
          "name": "stdout",
          "text": [
            "cherry\n"
          ]
        }
      ]
    },
    {
      "cell_type": "code",
      "source": [
        "#ans-29\n",
        "# combine two dictionaries\n",
        "d1={'name':'ajay','age':25}\n",
        "d2={'city':'delhi','country':'india'}\n",
        "d1.update(d2)\n",
        "print(d1)"
      ],
      "metadata": {
        "colab": {
          "base_uri": "https://localhost:8080/"
        },
        "id": "cFq2uM9a_GJ7",
        "outputId": "90774674-610a-4f2a-86b8-202cc2864549"
      },
      "execution_count": 64,
      "outputs": [
        {
          "output_type": "stream",
          "name": "stdout",
          "text": [
            "{'name': 'ajay', 'age': 25, 'city': 'delhi', 'country': 'india'}\n"
          ]
        }
      ]
    },
    {
      "cell_type": "code",
      "source": [
        "#ans-30- shows error\n",
        "# List of strings\n",
        "string_list = ['cat', 'dog', 'bird', 'cat', 'dog']\n",
        "\n",
        "# Convert list to set\n",
        "string_set = set(string_list)\n",
        "# Print the set\n",
        "print(string_set)\n"
      ],
      "metadata": {
        "colab": {
          "base_uri": "https://localhost:8080/",
          "height": 211
        },
        "id": "NAtoNueh_yTh",
        "outputId": "9634c02e-2d62-4cd0-dc8d-9c4931b6fda9"
      },
      "execution_count": 85,
      "outputs": [
        {
          "output_type": "error",
          "ename": "TypeError",
          "evalue": "'set' object is not callable",
          "traceback": [
            "\u001b[0;31m---------------------------------------------------------------------------\u001b[0m",
            "\u001b[0;31mTypeError\u001b[0m                                 Traceback (most recent call last)",
            "\u001b[0;32m/tmp/ipython-input-85-1201910388.py\u001b[0m in \u001b[0;36m<cell line: 0>\u001b[0;34m()\u001b[0m\n\u001b[1;32m      4\u001b[0m \u001b[0;34m\u001b[0m\u001b[0m\n\u001b[1;32m      5\u001b[0m \u001b[0;31m# Convert list to set\u001b[0m\u001b[0;34m\u001b[0m\u001b[0;34m\u001b[0m\u001b[0m\n\u001b[0;32m----> 6\u001b[0;31m \u001b[0mstring_set\u001b[0m \u001b[0;34m=\u001b[0m \u001b[0mset\u001b[0m\u001b[0;34m(\u001b[0m\u001b[0mstring_list\u001b[0m\u001b[0;34m)\u001b[0m\u001b[0;34m\u001b[0m\u001b[0;34m\u001b[0m\u001b[0m\n\u001b[0m\u001b[1;32m      7\u001b[0m \u001b[0;31m# Print the set\u001b[0m\u001b[0;34m\u001b[0m\u001b[0;34m\u001b[0m\u001b[0m\n\u001b[1;32m      8\u001b[0m \u001b[0mprint\u001b[0m\u001b[0;34m(\u001b[0m\u001b[0mstring_set\u001b[0m\u001b[0;34m)\u001b[0m\u001b[0;34m\u001b[0m\u001b[0;34m\u001b[0m\u001b[0m\n",
            "\u001b[0;31mTypeError\u001b[0m: 'set' object is not callable"
          ]
        }
      ]
    }
  ]
}